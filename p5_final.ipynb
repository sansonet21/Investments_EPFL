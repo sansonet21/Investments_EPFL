{
 "cells": [
  {
   "attachments": {},
   "cell_type": "markdown",
   "metadata": {},
   "source": [
    "# Question 1"
   ]
  },
  {
   "attachments": {},
   "cell_type": "markdown",
   "metadata": {},
   "source": [
    "## (a)"
   ]
  },
  {
   "attachments": {},
   "cell_type": "markdown",
   "metadata": {},
   "source": [
    "$$\\max_{w_i} \\quad {  w_i^T \\mu - 0.5 a^i w_i^T  \\Sigma w_i \\quad }\n",
    "\\textrm{s.t.}   \\quad w_i^T \\mathbb{1} = 1 $$\n",
    "$$ \\mathcal{L} = w_i^T \\mu - 0.5 a^i w_i^T  \\Sigma w_i + \\lambda (1-w_i^T \\mathbb{1}) $$\n",
    "FOCs:\n",
    "$$ \\dfrac{\\partial {\\mathcal{L}}}{\\partial{w}} = \\mu - a^i *\\Sigma*w_i - \\lambda \\mathbb{1} = 0 $$\n",
    "$$ \\dfrac{\\partial {\\mathcal{L}}}{\\partial{\\lambda}} = 1- \\mathbb{1}^T *w_i = 0 $$\n",
    "so, $$ w_i = \\dfrac{1}{a^i} \\Sigma^{-1}(\\mu-\\lambda \\mathbb{1}) $$\n",
    "and $$ \\dfrac{1}{a^i} (\\mathbb{1}^T \\Sigma^{-1}\\mu-\\lambda \\mathbb{1}^T \\Sigma^{-1} \\mathbb{1}) = \\dfrac{1}{a^i} ( B- A\\lambda)=1 $$\n",
    "then $ \\lambda = \\dfrac{B-a^i}{A}$ and $ w_i = b_i w_{slope} + (1-b_i) w_{min}$<p>\n",
    "With $ w_{slope} = \\dfrac{\\Sigma^{-1}\\mu}{\\mathbb{1}^T \\Sigma^{-1} \\mu} $ and $ w_{min} = \\dfrac{\\Sigma^{-1} \\mathbb{1}}{\\mathbb{1}^T \\Sigma^{-1} \\mathbb{1}} $ and $ b_i = \\dfrac{B}{a^i} $\n",
    "\n",
    "$$ w_M = \\sum_{i=1}^{I}\\dfrac{W_i}{W} w_i = \\dfrac{B}{a} w_{slope} + (1-\\dfrac{B}{a} ) w_{min} $$\n",
    "Since $w_M$ is a linear combination of two mean variance efficient portfolios it is MVE.\n",
    "Defining $ b_M = \\dfrac{B}{a} $ then,\n",
    "$$ Cov( R, R_M) = \\Sigma w_M =  \\Sigma (b_M w_{slope} + (1-b_M) w_{min}) = b_M \\dfrac{\\Sigma \\Sigma^{-1} \\mu}{\\mathbb{1}^T \\Sigma^{-1} \\mu} + (1-b_M) \\dfrac{\\Sigma \\Sigma^{-1} \\mathbb{1}}{\\mathbb{1}^T \\Sigma^{-1} \\mathbb{1}} $$\n",
    "$$ Cov( R, R_M) = \\dfrac{b_M}{B}\\mu + \\dfrac{1-b_M}{A}\\mathbb{1} $$\n",
    "$$ \\mu = \\dfrac{B}{b_M}(Cov(R,R_M) - \\dfrac{1-b_M}{A} \\mathbb{1}), (1)$$\n",
    "$$ While, \\quad \\sigma_M^2 = w_M^T \\Sigma w_M = \\dfrac{b_M}{B} \\mu_M + \\dfrac{1-b_M}{A}$$\n",
    "Considering $w_z$ the portfolio that is on the minimum variance frontier and uncorrelated with the market ( the zero-beta portfolio)\n",
    "$$ Cov (R_z, R_M) = \\dfrac{b_M}{B}\\mu_z + \\dfrac{1-b_M}{A}= 0 $$\n",
    "$$ so, \\quad \\dfrac{b_M}{B} = \\dfrac{\\sigma_M^2}{\\mu_M - \\mu_z} \\quad and \\quad \\dfrac{1-b_M}{A} = -\\dfrac{\\mu_z \\sigma_M^2}{\\mu_M-\\mu_z} $$\n",
    "Inserting in (1):\n",
    "$$ \\mu = \\mu_z \\mathbb(1) + \\dfrac{\\Sigma w_M}{\\sigma_M^2} (\\mu_M - \\mu_z) = \\mu_z \\mathbb(1) + \\beta (\\mu_M -\\mu_z), \\quad where \\quad \\beta = \\dfrac{Cov(R,R_M}{var(R_M)} $$\n",
    "if $m_z > R_0$ , we have that the security market line is flatter than in regular CAPM.\n",
    "\n",
    "\n"
   ]
  },
  {
   "attachments": {},
   "cell_type": "markdown",
   "metadata": {},
   "source": [
    "# (b)"
   ]
  },
  {
   "attachments": {},
   "cell_type": "markdown",
   "metadata": {},
   "source": [
    "\n",
    "\n",
    "\n",
    "$$\\max_{w_i} \\quad { R_0 + w_i^T ( \\mu - R_0 ) - 0.5 a^i w_i^T \\Sigma w_i \\quad }\n",
    "\\textrm{s.t.} \\quad m_i w_i^T \\mathbb{1} <= 1, \\quad where \\quad m_i = \\dfrac{1}{l_i + 1}$$\n",
    "\n",
    "$$ \\mathcal{L} = R_0 + w_i^T ( \\mu - R_0 ) - 0.5 a^i w_i^T  \\Sigma w_i +  \\lambda ( 1 - m_i w_i^T \\mathbb{1} ) $$\n",
    "FOCs:\n",
    "$$  \\dfrac{\\partial{\\mathcal{L}}}{\\partial{w_i}} = \\mu - R_0 \\mathbb{1} - a^i \\Sigma w_i - \\lambda_i * \\mathbb{1} m_i = 0 $$\n",
    "$$ w_i = \\dfrac{1}{a_i} \\Sigma^{-1} (\\mu- R_0 \\mathbb{1} - \\lambda_i \\mathbb{1} m_i ) $$\n",
    "the constrained investor invests in a portfolio that is a convex combination of $ w_{tan}, w_{min}, R_0 $\n"
   ]
  },
  {
   "attachments": {},
   "cell_type": "markdown",
   "metadata": {},
   "source": [
    "## (c)"
   ]
  },
  {
   "attachments": {},
   "cell_type": "markdown",
   "metadata": {},
   "source": [
    "\n",
    "$$ w_M = \\sum_{i=1}^{I} \\dfrac{W_i}{W} w_i = \\dfrac{1}{a} \\Sigma^{-1} (\\mu - R_0 \\mathbb(1) - \\psi \\mathbb{1}) $$\n",
    "\n",
    "defining $$ \\psi = \\sum_{i=1}^{I} \\dfrac{W_i a}{W a_i} \\lambda_i m_i $$\n",
    "$$ Cov(R,R_M) = \\Sigma w_M = \\dfrac{1}{a} (\\mu - R_0 \\mathbb{1} - \\psi \\mathbb{1} )  $$\n",
    "$$ Var ( R_M) = \\dfrac{1}{a} (\\mu - R_0 - \\psi ) $$\n",
    "Combining these two we get:\n",
    "$$ \\mu = (R_0 + \\psi \\mathbb{1} ) + \\beta * ( \\mu_M - R_0 - \\psi),\\quad with \\quad \\beta = \\dfrac{Cov ( R,R_M)}{Var(R_M)} $$\n"
   ]
  },
  {
   "attachments": {},
   "cell_type": "markdown",
   "metadata": {},
   "source": [
    "$$w_i = \\frac{B - AR_f}{ai}w_{tan} + \\frac{A\\lambda_imi}{a_i}w_{min} $$\n",
    "If the weights of $w_{min}$ $w_{tan}$ sum up to 1 we have that $w_i$ is mean variance efficient since it is a linear combination of $w_{min}$ $w_{tan}$.<p>\n",
    "This condition holds if $a_i = B - AR_f + A \\lambda_im_i$.<p>\n",
    "If this condition holds for all stocks i also the market portfolio is mean-variance efficient."
   ]
  },
  {
   "cell_type": "code",
   "execution_count": 148,
   "metadata": {},
   "outputs": [
    {
     "name": "stdout",
     "output_type": "stream",
     "text": [
      "Loading library list...\n",
      "Done\n"
     ]
    }
   ],
   "source": [
    "import numpy as np\n",
    "import datetime\n",
    "import pandas as pd\n",
    "import matplotlib.pyplot as plt\n",
    "import datetime\n",
    "import wrds\n",
    "db=wrds.Connection(wrds_username='sansonet')\n",
    "#db.create_pgpass_file()\n",
    "\n",
    "# import data\n",
    "#---------------------------------------------\n",
    "# Risk Free Rate \n",
    "#---------------------------------------------\n",
    "Rf=db.raw_sql(\"\"\"select  mcaldt,tmytm \n",
    "           from crsp.tfz_mth_rf            \n",
    "            where kytreasnox = 2000001 \n",
    "           and mcaldt>='1928-01-01'\n",
    "            and mcaldt<='2014-12-31'\"\"\", date_cols=['mcaldt'])\n",
    "Rf['tmytm']=np.exp(Rf['tmytm']/12/100)-1\n",
    "Rf=Rf.rename(columns={ \"mcaldt\": \"date\",\"tmytm\": \"rf\"})\n",
    "\n",
    "\n",
    "#---------------------------------------------\n",
    "# Value Weighted Index Returns\n",
    "#---------------------------------------------\n",
    "Rm=db.raw_sql(\"\"\"select  date,vwretd from crsp.msi \n",
    "                where date>='1928-01-01' and date<='2014-12-31'\n",
    "                \"\"\",date_cols=['date'])\n",
    "Rm = Rm.rename(columns={'vwretd':'Rm'})\n",
    "\n",
    "#---------------------------------------------\n",
    "# Stock Returns \n",
    "#---------------------------------------------\n",
    "stock_data = db.raw_sql(\"\"\"\n",
    "                    select a.permno, a.date, \n",
    "                      b.shrcd, b.exchcd,\n",
    "                      a.ret, a.shrout, a.prc\n",
    "                      from crsp.msf as a\n",
    "                      left join crsp.msenames as b\n",
    "                      on a.permno=b.permno\n",
    "                      and b.namedt<=a.date\n",
    "                      and a.date<=b.nameendt\n",
    "                      where a.date between '01/01/1928' and '12/31/2014'\n",
    "                      and b.exchcd between 1 and 2\n",
    "                      and b.shrcd between 10 and 11\n",
    "                      \"\"\", date_cols=['date']) \n",
    "stock_data=stock_data.drop(['shrcd','exchcd'],axis=1)\n",
    "stock_data = stock_data.rename(columns={'ret':'Rn'})\n",
    "stock_data['mcap'] = np.abs(stock_data['prc'])*stock_data['shrout']\n",
    "stock_data['mcap_l'] = stock_data.groupby(['permno'])['mcap'].shift(1)\n",
    "\n",
    "\n",
    "#---------------------------------------------\n",
    "# Merge Data \n",
    "#---------------------------------------------\n",
    "data = pd.merge(stock_data, Rf, on=['date'], how='left')\n",
    "data = pd.merge(data, Rm, on=['date'], how='left')\n",
    "data['const'] = 1\n",
    "data['Rn_e'] = data['Rn']-data['rf']\n",
    "data['Rm_e'] = data['Rm']-data['rf']\n",
    "data['w_m'] = data['mcap_l']/data.groupby(['date'])['mcap_l'].transform('sum')\n",
    "# Remove nans\n",
    "data = data.dropna(subset=['mcap_l','Rn_e','Rm_e']).copy()\n",
    "# Remove stocks with less than 60 observations\n",
    "data['N'] = data.groupby(['permno'])['date'].transform('count')\n",
    "data = data[data['N']>60].copy()\n"
   ]
  },
  {
   "cell_type": "code",
   "execution_count": 149,
   "metadata": {},
   "outputs": [],
   "source": [
    "#regression\n",
    "regr = data[['permno','Rn_e','Rm_e']].groupby(\"permno\").rolling(60,min_periods=36).cov().reset_index()\n"
   ]
  },
  {
   "cell_type": "code",
   "execution_count": 150,
   "metadata": {},
   "outputs": [
    {
     "name": "stderr",
     "output_type": "stream",
     "text": [
      "C:\\Users\\User\\AppData\\Local\\Temp/ipykernel_15600/846352581.py:3: SettingWithCopyWarning: \n",
      "A value is trying to be set on a copy of a slice from a DataFrame.\n",
      "Try using .loc[row_indexer,col_indexer] = value instead\n",
      "\n",
      "See the caveats in the documentation: https://pandas.pydata.org/pandas-docs/stable/user_guide/indexing.html#returning-a-view-versus-a-copy\n",
      "  regr2[\"beta\"] = regr2[\"Rn_e\"]/regr2[\"Rm_e\"]\n",
      "C:\\Users\\User\\AppData\\Local\\Temp/ipykernel_15600/846352581.py:6: SettingWithCopyWarning: \n",
      "A value is trying to be set on a copy of a slice from a DataFrame.\n",
      "Try using .loc[row_indexer,col_indexer] = value instead\n",
      "\n",
      "See the caveats in the documentation: https://pandas.pydata.org/pandas-docs/stable/user_guide/indexing.html#returning-a-view-versus-a-copy\n",
      "  regr2[\"date\"] = dates\n"
     ]
    }
   ],
   "source": [
    "#compute the beta\n",
    "regr2 = regr.iloc[1::2]\n",
    "regr2[\"beta\"] = regr2[\"Rn_e\"]/regr2[\"Rm_e\"]\n",
    "\n",
    "dates = data[\"date\"].values\n",
    "regr2[\"date\"] = dates"
   ]
  },
  {
   "attachments": {},
   "cell_type": "markdown",
   "metadata": {},
   "source": [
    "## (b)"
   ]
  },
  {
   "cell_type": "code",
   "execution_count": 151,
   "metadata": {},
   "outputs": [
    {
     "name": "stderr",
     "output_type": "stream",
     "text": [
      "C:\\Users\\User\\AppData\\Local\\Temp/ipykernel_15600/382632150.py:3: SettingWithCopyWarning: \n",
      "A value is trying to be set on a copy of a slice from a DataFrame.\n",
      "Try using .loc[row_indexer,col_indexer] = value instead\n",
      "\n",
      "See the caveats in the documentation: https://pandas.pydata.org/pandas-docs/stable/user_guide/indexing.html#returning-a-view-versus-a-copy\n",
      "  regr2[\"quantiles\"] = regr2.groupby(['date'])['beta'].transform(lambda x: pd.qcut(x,10,labels=labels))\n"
     ]
    }
   ],
   "source": [
    "#division in quantiles\n",
    "labels = [\"1st\", \"2nd\", \"3rd\", \"4th\", \"5th\", \"6th\", \"7th\", \"8th\", \"9th\", \"10th\"]\n",
    "regr2[\"quantiles\"] = regr2.groupby(['date'])['beta'].transform(lambda x: pd.qcut(x,10,labels=labels)) \n",
    "#let's merge with original data\n",
    "data[\"beta\"]=regr2[\"beta\"].values\n",
    "data[\"quantiles\"] = regr2[\"quantiles\"].values\n",
    "data = data.dropna(subset=['beta'])\n"
   ]
  },
  {
   "cell_type": "code",
   "execution_count": 152,
   "metadata": {},
   "outputs": [],
   "source": [
    "#compute equaly weighted and value weigthed returns\n",
    "data['wm'] = data['mcap_l']/data.groupby(['date','quantiles'])['mcap_l'].transform('sum')\n",
    "data['Return_vw'] = data['Rn']*data['wm']*12\n",
    "data['Return_ew'] = data['Rn']/data.groupby(['date','quantiles'])['permno'].transform('count')*12\n",
    "\n",
    "val_ret=data.groupby(['date', 'quantiles'])['Return_vw'].sum()\n",
    "equal_ret=data.groupby(['date', 'quantiles'])['Return_ew'].sum()\n"
   ]
  },
  {
   "cell_type": "code",
   "execution_count": 153,
   "metadata": {},
   "outputs": [],
   "source": [
    "avg_vw= val_ret.groupby(['quantiles']).mean()\n",
    "avg_ew= equal_ret.groupby(['quantiles']).mean()\n"
   ]
  },
  {
   "cell_type": "code",
   "execution_count": 154,
   "metadata": {},
   "outputs": [
    {
     "data": {
      "image/png": "[encoded data removed]",
      "text/plain": [
       "<Figure size 432x288 with 1 Axes>"
      ]
     },
     "metadata": {
      "needs_background": "light"
     },
     "output_type": "display_data"
    }
   ],
   "source": [
    "#plot\n",
    "plt.bar(avg_ew.index, avg_ew.values)\n",
    "plt.title(\"avg ret ew\")\n",
    "plt.show()"
   ]
  },
  {
   "cell_type": "code",
   "execution_count": 155,
   "metadata": {},
   "outputs": [
    {
     "data": {
      "image/png": "[encoded data removed]",
      "text/plain": [
       "<Figure size 432x288 with 1 Axes>"
      ]
     },
     "metadata": {
      "needs_background": "light"
     },
     "output_type": "display_data"
    }
   ],
   "source": [
    "plt.bar(avg_vw.index, avg_vw.values)\n",
    "plt.title(\"avg ret vw\")\n",
    "plt.show()"
   ]
  },
  {
   "attachments": {},
   "cell_type": "markdown",
   "metadata": {},
   "source": [
    "The results are not aligned with CAPM since, the average return is not increasing with beta."
   ]
  },
  {
   "attachments": {},
   "cell_type": "markdown",
   "metadata": {},
   "source": [
    "## (c)"
   ]
  },
  {
   "cell_type": "code",
   "execution_count": 156,
   "metadata": {},
   "outputs": [],
   "source": [
    "#computation bab portfolio\n",
    "high_low_beta = data.groupby(\"date\")[\"beta\"].apply(lambda x : x.rank(method=\"average\") ).reset_index()"
   ]
  },
  {
   "cell_type": "code",
   "execution_count": 157,
   "metadata": {},
   "outputs": [],
   "source": [
    "data[\"high_low\"]=high_low_beta[\"beta\"].values\n",
    "data[\"z_avg\"] = data.groupby(\"date\")['high_low'].transform('mean')\n",
    "data[\"difference\"]= abs(data[\"high_low\"]-data[\"z_avg\"])\n"
   ]
  },
  {
   "cell_type": "code",
   "execution_count": 158,
   "metadata": {},
   "outputs": [],
   "source": [
    "data[\"k\"] =  2 / data.groupby(\"date\")[\"difference\"].transform(\"sum\")\n",
    "data[\"wh\"] = data[\"k\"]*np.maximum(data[\"high_low\"]-data[\"z_avg\"],0)\n",
    "data[\"wl\"] = data[\"k\"]*np.maximum(-data[\"high_low\"]+data[\"z_avg\"],0)"
   ]
  },
  {
   "cell_type": "code",
   "execution_count": 159,
   "metadata": {},
   "outputs": [],
   "source": [
    "data[\"Rh\"] = data[\"wh\"]*data[\"Rn\"]\n",
    "data[\"Rl\"] = data[\"wl\"]*data[\"Rn\"]\n",
    "\n",
    "data[\"Bh\"] = data[\"wh\"]*data[\"beta\"]\n",
    "data[\"Bl\"] = data[\"wl\"]*data[\"beta\"]"
   ]
  },
  {
   "cell_type": "code",
   "execution_count": 160,
   "metadata": {},
   "outputs": [],
   "source": [
    "RH=data.groupby(\"date\")[\"Rh\"].agg(\"sum\").values\n",
    "RL=data.groupby(\"date\")[\"Rl\"].agg(\"sum\").values\n",
    "BH=data.groupby(\"date\")[\"Bh\"].agg(\"sum\").values\n",
    "BL=data.groupby(\"date\")[\"Bl\"].agg(\"sum\").values\n",
    "RF=data.groupby(\"date\")[\"rf\"].agg(\"mean\").values\n",
    "RBAB =-((RH-RF)/BH) + ((RL-RF)/BL)"
   ]
  },
  {
   "cell_type": "code",
   "execution_count": 161,
   "metadata": {},
   "outputs": [
    {
     "name": "stdout",
     "output_type": "stream",
     "text": [
      "The Sharpe Ratio  0.12517743233109654\n"
     ]
    }
   ],
   "source": [
    "S_ratio = (RBAB.mean()-RF.mean()) / RBAB.std()\n",
    "print(\"The Sharpe Ratio \", S_ratio)"
   ]
  },
  {
   "cell_type": "code",
   "execution_count": 162,
   "metadata": {},
   "outputs": [
    {
     "name": "stdout",
     "output_type": "stream",
     "text": [
      " The CAPM alpha of the BAB factor is  0.004497531289565024\n"
     ]
    }
   ],
   "source": [
    "#regression\n",
    "RM_E=data.groupby(\"date\")[\"Rm_e\"].agg(\"mean\").values\n",
    "beta = np.cov(RM_E, RBAB)[0,1]/np.var(RM_E)\n",
    "alpha = np.mean(RBAB)-beta*np.mean(RM_E)\n",
    "print(\" The CAPM alpha of the BAB factor is \", alpha)\n"
   ]
  },
  {
   "attachments": {},
   "cell_type": "markdown",
   "metadata": {},
   "source": [
    "## (d)"
   ]
  },
  {
   "attachments": {},
   "cell_type": "markdown",
   "metadata": {},
   "source": [
    "RBAB is not dollar neutral in term of risky security only, since the investment in R_L is $\\frac{1}{\\beta_L}$ and the investment in R_H is $\\frac{1}{\\beta_H}$, therefore the investment in risky asset is different from 0."
   ]
  },
  {
   "attachments": {},
   "cell_type": "markdown",
   "metadata": {},
   "source": [
    "On the other hand, the portfolio R_L - R_H is dollar neutral also in term of risky risk free assets. Otherwise, in R_bab both portfolio are rescaled in order to have $\\beta$ of 1 at portfolio formation."
   ]
  },
  {
   "attachments": {},
   "cell_type": "markdown",
   "metadata": {},
   "source": [
    "# (e)"
   ]
  },
  {
   "attachments": {},
   "cell_type": "markdown",
   "metadata": {},
   "source": [
    "The max Sharpe Ratio attainable is $\\sqrt(SR_M^2+IR^2)$ where $SR_M$ is the Market Sharpe Ratio and $ IR = \\frac{\\alpha}{\\sigma} $. <p>\n",
    "Optimally combining the $Rf$, $R_{bab}$ and $Rm$ from theory we get that the optimal weights(given $a$ the risk aversion) are :\n",
    "$$ \\frac{\\alpha}{a\\sigma^2} \\quad in \\quad R_{bab}$$\n",
    "$$ \\frac{\\mu_M-Rf}{a\\sigma_M^2}\\quad in \\quad R_{M}$$\n",
    "$$ 1- \\frac{\\mu_M-Rf}{a\\sigma_M^2}-\\frac{\\alpha}{a\\sigma^2}(1-\\beta_{bab}) \\quad in \\quad R_{f}$$\n",
    "We can now compute the Sharpe Ratio as:"
   ]
  },
  {
   "cell_type": "code",
   "execution_count": 163,
   "metadata": {},
   "outputs": [
    {
     "name": "stdout",
     "output_type": "stream",
     "text": [
      "The max Sharpe Ratio is  0.12695669971821888\n"
     ]
    }
   ],
   "source": [
    "sharpe_ratio_mkt = np.sqrt(np.mean(RM_E)**2/np.var(RM_E)+alpha**2/np.var(RBAB))\n",
    "print(\"The max Sharpe Ratio is \", sharpe_ratio_mkt)"
   ]
  },
  {
   "attachments": {},
   "cell_type": "markdown",
   "metadata": {},
   "source": [
    "## (f)"
   ]
  },
  {
   "cell_type": "code",
   "execution_count": 164,
   "metadata": {},
   "outputs": [
    {
     "data": {
      "image/png": "[encoded data removed]",
      "text/plain": [
       "<Figure size 432x288 with 1 Axes>"
      ]
     },
     "metadata": {
      "needs_background": "light"
     },
     "output_type": "display_data"
    }
   ],
   "source": [
    "series_RBAB = pd.Series(RBAB)\n",
    "plt.plot(series_RBAB.rolling(window=120).mean())\n",
    "plt.title(\"rolling 10-yr avg of R_bab return\")\n",
    "plt.show()"
   ]
  },
  {
   "attachments": {},
   "cell_type": "markdown",
   "metadata": {},
   "source": [
    "When the market tightness is high, meaning that people can borrow with less ease, the investors will choose assets with an higher beta, to reach higher returns, even if this choice is not optimal. Hence, in this case, we would have lower alpha for the assets with higher beta, so a higher $R_{bab}$. On the other hand, in corrispondence of negative spikes we have low bounding constraints."
   ]
  }
 ],
 "metadata": {
  "kernelspec": {
   "display_name": "Python 3",
   "language": "python",
   "name": "python3"
  },
  "language_info": {
   "codemirror_mode": {
    "name": "ipython",
    "version": 3
   },
   "file_extension": ".py",
   "mimetype": "text/x-python",
   "name": "python",
   "nbconvert_exporter": "python",
   "pygments_lexer": "ipython3",
   "version": "3.9.13"
  },
  "orig_nbformat": 4
 },
 "nbformat": 4,
 "nbformat_minor": 2
}
