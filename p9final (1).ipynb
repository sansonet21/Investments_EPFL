{
 "cells": [
  {
   "attachments": {},
   "cell_type": "markdown",
   "metadata": {},
   "source": [
    "# Exercise 1"
   ]
  },
  {
   "attachments": {},
   "cell_type": "markdown",
   "metadata": {},
   "source": [
    "$$ max_{x_1} \\quad {R_f + x_1 (\\mu-R_f) - 0.5  \\gamma x_1^2\\sigma^2 - b | x1-x0 |  } $$\n",
    "\n",
    "\n",
    "F.O.C. x1: \n",
    "$$ (\\mu-R_f) = \\gamma x_1^2\\sigma^2 + b * sgn(x1-x0)$$\n",
    "\n",
    "so:<p>\n",
    "$ x1 = x_L = \\dfrac{\\mu - R_f  - b}{\\gamma  \\sigma^2} \\quad if \\quad x1 > x0$<p>\n",
    "$ x1 = x_H = \\dfrac{\\mu -R_f + b}{\\gamma  \\sigma^2 }\\quad if \\quad x1 < x0$<p>\n",
    "x1 = x0 otherwise\n",
    "\n",
    "We have the no-trade region where: $$ \\dfrac{\\mu - R_f  - b}{\\gamma  \\sigma^2} < x0 < \\dfrac{\\mu - R_f  + b}{\\gamma  \\sigma^2}$$\n",
    "we have that $ x_1 =  [ x_{1,1} ; x_{2,1}] $ while $x0 = [x_{1,0}; x_{2,0}]$\n",
    "$$max_{x_1} \\quad {R_f + x_{1,1} (\\mu_1-R_f) + x_{2,1} (\\mu_2-R_f) - 0.5  \\gamma [x_{1,1}^2 \\sigma_1^2+ x_{1,1}^2 \\sigma_2^2 + \\rho x_{1,1} x_{2,1} \\sigma_1 \\sigma_2] - b1 | x_{1,1} -x_{1,0} | - b2 | x_{2,1} -x_{2,0} | }$$\n",
    "FOC: \n",
    "$$ x_{1,1} : \\mu_1-R_f - \\gamma [x_{1,1} \\sigma_1^2 + \\rho x_{2,1} \\sigma_1 \\sigma_2] - b1 * sgn(x_{1,1} -x_{1,0})  $$\n",
    "$$ x_{2,1} : \\mu_2-R_f - \\gamma [x_{2,1} \\sigma_2^2 + \\rho x_{1,1} \\sigma_1 \\sigma_2] - b2 * sgn(x_{2,1} -x_{2,0})  $$\n",
    "\n",
    "so:<p>\n",
    "$ x_{1,1} = \\dfrac{\\mu_1 - R_f  - \\gamma  \\rho x_{2,1} \\sigma_1 \\sigma_2 -b1 }{\\gamma  \\sigma_1^2} \\quad if \\quad x_{1,1} > x_{1,0}$  (1)<p>\n",
    "$ x_{1,1} =  \\dfrac{\\mu_1 - R_f  - \\gamma  \\rho x_{2,1} \\sigma_1 \\sigma_2 + b1 }{\\gamma  \\sigma_1^2} \\quad if \\quad x_{1,1} < x_{1,0}$  (2)<p>\n",
    " $ x_{1,1} = x_{1,0} $<p><p>\n",
    "\n",
    "$ x_{2,1} = \\dfrac{\\mu_2 - R_f  - \\gamma  \\rho x_{1,1} \\sigma_1 \\sigma_2 -b2 }{\\gamma  \\sigma_2^2}\\quad if \\quad x_{2,1} > x_{2,0}$  (3)<p>\n",
    "$ x_{2,1} =  \\dfrac{\\mu_2 - R_f  - \\gamma  \\rho x_{1,1} \\sigma_1 \\sigma_2 + b2 }{\\gamma  \\sigma_2^2}\\quad if \\quad x_{2,1} < x_{2,0}$  (4)<p>\n",
    "$ x_{2,1}= x_{2,0} $<p>\n",
    "Now for BB, SS, SB. BS we need to solve a linear system of two equations in two unknowns. While, for NB, BN, SN,NS we can just plug the value of the stock that is not traded in the other equation.<p>\n",
    "For BB we use (1) and (3) obtaining:\n",
    "$$ x_{1,1} = \\dfrac{\\mu_1 - R_f - \\dfrac{\\mu_2 - R_f - b2}{\\sigma_2^2} \\rho \\sigma_1 \\sigma_2 - b1}{(1-\\rho^2) \\gamma \\sigma_1^2}$$\n",
    "$$ x_{2,1} = \\dfrac{\\mu_2 - R_f - \\dfrac{\\mu_1 - R_f - b1}{\\sigma_1^2} \\rho \\sigma_1 \\sigma_2 - b2}{(1-\\rho^2) \\gamma \\sigma_2^2}$$\n",
    "For BS we use (1) and (4) obtaining:\n",
    "$$ x_{1,1} = \\dfrac{\\mu_1 - R_f - \\dfrac{\\mu_2 - R_f + b2}{\\sigma_2^2} \\rho \\sigma_1 \\sigma_2 - b1}{(1-\\rho^2) \\gamma \\sigma_1^2}$$\n",
    "$$ x_{2,1} = \\dfrac{\\mu_2 - R_f - \\dfrac{\\mu_1 - R_f - b1}{\\sigma_1^2} \\rho \\sigma_1 \\sigma_2 + b2}{(1-\\rho^2) \\gamma \\sigma_2^2}$$\n",
    "For SB we use (2) and (3) obtaining:\n",
    "$$ x_{1,1} = \\dfrac{\\mu_1 - R_f - \\dfrac{\\mu_2 - R_f - b2}{\\sigma_2^2} \\rho \\sigma_1 \\sigma_2 + b1}{(1-\\rho^2) \\gamma \\sigma_1^2}$$\n",
    "$$ x_{2,1} = \\dfrac{\\mu_2 - R_f - \\dfrac{\\mu_1 - R_f + b1}{\\sigma_1^2} \\rho \\sigma_1 \\sigma_2 - b2}{(1-\\rho^2) \\gamma \\sigma_2^2}$$\n",
    "For SS we use (2) and (4) obtaining:\n",
    "$$ x_{1,1} = \\dfrac{\\mu_1 - R_f - \\dfrac{\\mu_2 - R_f + b2}{\\sigma_2^2} \\rho \\sigma_1 \\sigma_2 + b1}{(1-\\rho^2) \\gamma \\sigma_1^2}$$\n",
    "$$ x_{2,1} = \\dfrac{\\mu_2 - R_f - \\dfrac{\\mu_1 - R_f + b1}{\\sigma_1^2} \\rho \\sigma_1 \\sigma_2 + b2}{(1-\\rho^2) \\gamma \\sigma_2^2}$$\n",
    "For BN we have:\n",
    "$$ x_{1,1} = \\dfrac{\\mu_1 - R_f  - \\gamma  \\rho x_{2,1} \\sigma_1 \\sigma_2 -b1 }{\\gamma  \\sigma_1^2}  \\ if \\ x_{1,1} > x_{1,0} $$ \n",
    "$$  x_{2,1}= x_{2,0} $$\n",
    "For NB we have:\n",
    "$$ x_{1,1}= x_{1,0} $$ \n",
    "$$ x_{2,1} = \\dfrac{\\mu_2 - R_f  - \\gamma  \\rho x_{1,1} \\sigma_1 \\sigma_2 -b2 }{\\gamma  \\sigma_2^2}  \\ if \\ x_{2,1} > x_{2,0} $$\n",
    "For SN we have:\n",
    "$$ x_{1,1} =  \\dfrac{\\mu_1 - R_f  - \\gamma  \\rho x_{2,1} \\sigma_1 \\sigma_2 + b1 }{\\gamma  \\sigma_1^2} \\ if \\ x_{1,1} < x_{1,0} $$ \n",
    "$$  x_{2,1}= x_{2,0} $$\n",
    "For NS we have:\n",
    "$$ x_{1,1}= x_{1,0} $$ \n",
    "$$  x_{2,1} =  \\dfrac{\\mu_2 - R_f  - \\gamma  \\rho x_{1,1} \\sigma_1 \\sigma_2 + b2 }{\\gamma  \\sigma_2^2} \\ if \\ x_{2,1} < x_{2,0} $$\n",
    "the no trade region is the region \n",
    "$$ \\mathbb{R}^2 \\backslash [BB \\cup SB \\cup BS  \\cup SS  \\cup BN \\cup NB \\cup SN \\cup NS] $$"
   ]
  },
  {
   "attachments": {},
   "cell_type": "markdown",
   "metadata": {},
   "source": [
    "## (b)"
   ]
  },
  {
   "cell_type": "code",
   "execution_count": 46,
   "metadata": {},
   "outputs": [],
   "source": [
    "import numpy as np\n",
    "import pandas as pd\n",
    "import matplotlib.pyplot as plt\n"
   ]
  },
  {
   "cell_type": "code",
   "execution_count": 47,
   "metadata": {},
   "outputs": [],
   "source": [
    "rf = 0.02 \n",
    "mu = np.array([0.05,0.15]).T\n",
    "sigma = np.array([0.15,0.25]).T\n",
    "b = np.array([0.03,0.03]).T\n",
    "rho = 0.5\n",
    "gamma = 1 # assume risk aversion = 1"
   ]
  },
  {
   "cell_type": "code",
   "execution_count": 48,
   "metadata": {},
   "outputs": [],
   "source": [
    "def plot(rf,mu,sigma,b,rho):\n",
    "\n",
    "    x1bb=1/(sigma[0]**2*(1-rho**2))*(mu[0]-rf-1/sigma[1]**2*(mu[1]-rf-b[1])*rho*sigma[0]*sigma[1]-b[0])\n",
    "    x2bb=1/(sigma[1]**2*(1-rho**2))*(mu[1]-rf-1/sigma[0]**2*(mu[0]-rf-b[0])*rho*sigma[1]*sigma[0]-b[1])\n",
    "\n",
    "    x1bs=1/(sigma[0]**2*(1-rho**2))*(mu[0]-rf-1/sigma[1]**2*(mu[1]-rf+b[1])*rho*sigma[0]*sigma[1]-b[0])\n",
    "    x2bs=1/(sigma[1]**2*(1-rho**2))*(mu[1]-rf-1/sigma[0]**2*(mu[0]-rf-b[0])*rho*sigma[1]*sigma[0]+b[1])\n",
    "\n",
    "    x1sb=1/(sigma[0]**2*(1-rho**2))*(mu[0]-rf-1/sigma[1]**2*(mu[1]-rf-b[1])*rho*sigma[0]*sigma[1]+b[0])\n",
    "    x2sb=1/(sigma[1]**2*(1-rho**2))*(mu[1]-rf-1/sigma[0]**2*(mu[0]-rf+b[0])*rho*sigma[1]*sigma[0]-b[1])\n",
    "\n",
    "    x1ss=1/(sigma[0]**2*(1-rho**2))*(mu[0]-rf-1/sigma[1]**2*(mu[1]-rf+b[1])*rho*sigma[0]*sigma[1]+b[0])\n",
    "    x2ss=1/(sigma[1]**2*(1-rho**2))*(mu[1]-rf-1/sigma[0]**2*(mu[0]-rf+b[0])*rho*sigma[1]*sigma[0]+b[1])\n",
    "\n",
    "    xmin = x1bs-0.5\n",
    "    xmax = x1sb+0.5\n",
    "    ymin = x2sb-0.5\n",
    "    ymax = x2bs+0.5\n",
    "\n",
    "    n=1000\n",
    "    bb1oriz=np.linspace(xmin,x1bb,n)\n",
    "    bb1vert=x2bb*np.ones((n,1))\n",
    "    bb2oriz=x1bb*np.ones((n,1))\n",
    "    bb2vert=np.linspace(ymin,x2bb,n)\n",
    "\n",
    "    bs1oriz=np.linspace(xmin,x1bs,n)\n",
    "    bs1vert=x2bs*np.ones((n,1))\n",
    "    bs2oriz=x1bs*np.ones((n,1))\n",
    "    bs2vert=np.linspace(x2bs,ymax,n)\n",
    "\n",
    "    sb1oriz=np.linspace(x1sb,xmax,n)\n",
    "    sb1vert=x2sb*np.ones((n,1))\n",
    "    sb2oriz=x1sb*np.ones((n,1))\n",
    "    sb2vert=np.linspace(ymin,x2sb,n)\n",
    "\n",
    "    ss1oriz=np.linspace(x1ss,xmax,n)\n",
    "    ss1vert=x2ss*np.ones((n,1))\n",
    "    ss2oriz=x1ss*np.ones((n,1))\n",
    "    ss2vert=np.linspace(x2ss,ymax,n)\n",
    "\n",
    "    nboriz=np.linspace(x1bb,x1sb,n)\n",
    "    nbvert=1/sigma[1]**2*(mu[1]-rf-nboriz*rho*sigma[1]*sigma[0]-b[1])\n",
    "\n",
    "    bnvert=np.linspace(x2bs,x2bb,n)\n",
    "    bnoriz=1/sigma[0]**2*(mu[0]-rf-bnvert*rho*sigma[1]*sigma[0]-b[0])\n",
    "\n",
    "    snvert=np.linspace(x2ss,x2sb,n)\n",
    "    snoriz=1/sigma[0]**2*(mu[0]-rf-snvert*rho*sigma[1]*sigma[0]+b[0])\n",
    "\n",
    "    nsoriz=np.linspace(x1bs,x1ss,n)\n",
    "    nsvert=1/sigma[1]**2*(mu[1]-rf-nsoriz*rho*sigma[1]*sigma[0]+b[1])\n",
    "\n",
    "    plt.plot(bb1oriz,bb1vert,'-b')\n",
    "    plt.plot(bb2oriz,bb2vert,'-b')\n",
    "    plt.plot(bs1oriz,bs1vert,'-b')\n",
    "    plt.plot(bs2oriz,bs2vert,'-b')\n",
    "    plt.plot(sb1oriz,sb1vert,'-b')\n",
    "    plt.plot(sb2oriz,sb2vert,'-b')\n",
    "    plt.plot(ss1oriz,ss1vert,'-b')\n",
    "    plt.plot(ss2oriz,ss2vert,'-b')\n",
    "    plt.plot(nboriz,nbvert,'-b')\n",
    "    plt.plot(bnoriz,bnvert,'-b')\n",
    "    plt.plot(snoriz,snvert,'-b')\n",
    "    plt.plot(nsoriz,nsvert,'-b')\n",
    "    plt.plot(x1bb,x2bb,'or')\n",
    "    plt.text(x1bb,x2bb,'BB')\n",
    "    plt.plot(x1sb,x2sb,'og')\n",
    "    plt.text(x1sb,x2sb,'SB')\n",
    "    plt.plot(x1bs,x2bs,'oc')\n",
    "    plt.text(x1bs,x2bs,'BS')\n",
    "    plt.plot(x1ss,x2ss,'oy')\n",
    "    plt.text(x1ss,x2ss,'SS')\n",
    "    plt.xlabel('X1')\n",
    "    plt.ylabel('X2')\n",
    "    plt.show"
   ]
  },
  {
   "cell_type": "code",
   "execution_count": 49,
   "metadata": {},
   "outputs": [
    {
     "data": {
      "image/png": "[encoded data removed]",
      "text/plain": [
       "<Figure size 640x480 with 1 Axes>"
      ]
     },
     "metadata": {},
     "output_type": "display_data"
    }
   ],
   "source": [
    "plot(rf,mu,sigma,b,rho)"
   ]
  },
  {
   "attachments": {},
   "cell_type": "markdown",
   "metadata": {},
   "source": [
    "The non trading region is the area of the parallelogram."
   ]
  },
  {
   "attachments": {},
   "cell_type": "markdown",
   "metadata": {},
   "source": [
    "## (c)"
   ]
  },
  {
   "cell_type": "code",
   "execution_count": 50,
   "metadata": {},
   "outputs": [
    {
     "data": {
      "image/png": "[encoded data removed]",
      "text/plain": [
       "<Figure size 640x480 with 1 Axes>"
      ]
     },
     "metadata": {},
     "output_type": "display_data"
    }
   ],
   "source": [
    "rho1 = 0.75\n",
    "plot(rf,mu,sigma,b,rho1)"
   ]
  },
  {
   "attachments": {},
   "cell_type": "markdown",
   "metadata": {},
   "source": [
    "As we increase $\\rho$ the parallelogram becomes thinner."
   ]
  },
  {
   "cell_type": "code",
   "execution_count": 51,
   "metadata": {},
   "outputs": [
    {
     "data": {
      "image/png": "[encoded data removed]",
      "text/plain": [
       "<Figure size 640x480 with 1 Axes>"
      ]
     },
     "metadata": {},
     "output_type": "display_data"
    }
   ],
   "source": [
    "sigma1 = np.array([0.25,0.15]).T\n",
    "plot(rf,mu,sigma1,b,rho)"
   ]
  },
  {
   "attachments": {},
   "cell_type": "markdown",
   "metadata": {},
   "source": [
    "If we make the first asset more volatile than the second one the major diagonal of the parallelogram becomes the minor diagonal and viceversa."
   ]
  },
  {
   "attachments": {},
   "cell_type": "markdown",
   "metadata": {},
   "source": [
    "# Exercise 2"
   ]
  },
  {
   "cell_type": "code",
   "execution_count": 52,
   "metadata": {},
   "outputs": [],
   "source": [
    "corr = pd.read_excel(\"BL_data.xlsx\", usecols=\"B:H\")\n",
    "sigma = pd.read_excel(\"BL_data.xlsx\",usecols = \"J,K\", index_col=[0])\n",
    "weq = pd.read_excel(\"BL_data.xlsx\",usecols = \"J,L\", index_col=[0])\n",
    "gamma = 3.5\n"
   ]
  },
  {
   "attachments": {},
   "cell_type": "markdown",
   "metadata": {},
   "source": [
    "## Point 1"
   ]
  },
  {
   "attachments": {},
   "cell_type": "markdown",
   "metadata": {},
   "source": [
    "The mean variance efficient portfolio has the shape:\n",
    "$$ w = (\\gamma\\Sigma)^{-1}$$"
   ]
  },
  {
   "cell_type": "code",
   "execution_count": 53,
   "metadata": {},
   "outputs": [
    {
     "name": "stdout",
     "output_type": "stream",
     "text": [
      "[[0.05512576]\n",
      " [0.09681265]\n",
      " [0.11701321]\n",
      " [0.12638136]\n",
      " [0.06023934]\n",
      " [0.0947477 ]\n",
      " [0.10584065]]\n"
     ]
    }
   ],
   "source": [
    "Sigma = sigma.values*corr.values*sigma.values.T\n",
    "mu_0 = gamma*(Sigma@weq.values)\n",
    "print(mu_0)"
   ]
  },
  {
   "attachments": {},
   "cell_type": "markdown",
   "metadata": {},
   "source": [
    "## Point 2"
   ]
  },
  {
   "cell_type": "code",
   "execution_count": 54,
   "metadata": {},
   "outputs": [],
   "source": [
    "gamma_2 = 2\n",
    "tau = 0.03\n"
   ]
  },
  {
   "attachments": {},
   "cell_type": "markdown",
   "metadata": {},
   "source": [
    "given that:\n",
    "$$ R = \\mu + \\epsilon$$\n",
    "with\n",
    "$$ \\mu = \\mu_{0} \\quad Var = \\Sigma*(1+\\tau)$$"
   ]
  },
  {
   "cell_type": "code",
   "execution_count": 55,
   "metadata": {},
   "outputs": [
    {
     "name": "stdout",
     "output_type": "stream",
     "text": [
      "the weights are: \n",
      " [[0.02718447]\n",
      " [0.03737864]\n",
      " [0.08834951]\n",
      " [0.0934466 ]\n",
      " [0.19708738]\n",
      " [0.21067961]\n",
      " [1.04490291]]\n",
      "the deviation is: \n",
      " [[0.01118447]\n",
      " [0.01537864]\n",
      " [0.03634951]\n",
      " [0.0384466 ]\n",
      " [0.08108738]\n",
      " [0.08667961]\n",
      " [0.42990291]]\n"
     ]
    }
   ],
   "source": [
    "Var = Sigma*(1+tau)\n",
    "w0 = np.linalg.inv(gamma_2*Var)@mu_0\n",
    "deviation = w0-weq.values\n",
    "print(\"the weights are: \\n\", w0)\n",
    "print(\"the deviation is: \\n\", deviation)"
   ]
  },
  {
   "attachments": {},
   "cell_type": "markdown",
   "metadata": {},
   "source": [
    "We see that all weights change"
   ]
  },
  {
   "attachments": {},
   "cell_type": "markdown",
   "metadata": {},
   "source": [
    "## Point 3-4-5"
   ]
  },
  {
   "attachments": {},
   "cell_type": "markdown",
   "metadata": {},
   "source": [
    "From the slides we know:\n",
    "$$ \\bar{\\mu} = \\mu_0 + \\Omega_0P'(P\\Omega_0P'+\\Omega)^{-1}(q-P\\mu_0)$$\n",
    "$$ \\bar{\\Omega} = \\Omega_0 + \\Omega_0P'(P\\Omega_0P'+\\Omega)^{-1}$$\n",
    "Another formulation:\n",
    "$$ \\bar{\\mu} = (\\Omega_0^{-1}+P'\\Omega^{-1}P)^{-1}(\\Omega_0^{-1}\\mu_0 + P'\\Omega^{-1}q) $$\n",
    "$$ \\bar{\\Omega} = (\\Omega_0^{-1}+P'\\Omega^{-1}P)^{-1}$$\n",
    "with \n",
    "$$\\epsilon_0 \\sim N(0,\\Omega_0)$$\n",
    "$$\\epsilon_Q \\sim N(0, \\Omega)$$\n",
    "\n"
   ]
  },
  {
   "cell_type": "code",
   "execution_count": 56,
   "metadata": {},
   "outputs": [],
   "source": [
    "def tools(P,Omega_0,Omega,q):\n",
    "  Mu_bar = np.linalg.inv(np.linalg.inv(Omega_0)+ P.T@np.linalg.inv(Omega)@P)@(np.linalg.inv(Omega_0)@mu_0+P.T@np.linalg.inv(Omega)@q)\n",
    "  Omega_bar = np.linalg.inv(np.linalg.inv(Omega_0)+P.T@np.linalg.inv(Omega)@P)\n",
    "  return Mu_bar , Omega_bar"
   ]
  },
  {
   "cell_type": "code",
   "execution_count": 57,
   "metadata": {},
   "outputs": [],
   "source": [
    "def optimalportfolio(P,tau,q,mu_0,gamma,sigma,Mu_bar,Omega_bar,Omega):\n",
    "  w_opt = np.linalg.inv(gamma*(sigma+Omega_bar))@Mu_bar\n",
    "  Lambda_opt = 1/gamma * np.linalg.inv( P@(sigma)@P.T + (1+ 1/tau )*Omega)@(q-1/(1+tau)*(P@mu_0))\n",
    "  return w_opt,Lambda_opt"
   ]
  },
  {
   "cell_type": "code",
   "execution_count": 58,
   "metadata": {},
   "outputs": [
    {
     "name": "stdout",
     "output_type": "stream",
     "text": [
      "Mu_bar : \n",
      " [[0.05818278]\n",
      " [0.11051274]\n",
      " [0.12401373]\n",
      " [0.13944587]\n",
      " [0.06235575]\n",
      " [0.09597677]\n",
      " [0.10373602]] \n",
      " and Omega_bar : \n",
      " [[0.00074977 0.00043619 0.00052591 0.00057876 0.0004325  0.0004831\n",
      "  0.00042302]\n",
      " [0.00043619 0.00106748 0.00091257 0.00091063 0.00036969 0.00072454\n",
      "  0.00090891]\n",
      " [0.00052591 0.00091257 0.00174313 0.00151963 0.00053114 0.00114512\n",
      "  0.0008856 ]\n",
      " [0.00057876 0.00091063 0.00151963 0.00173923 0.00055592 0.00122061\n",
      "  0.00088548]\n",
      " [0.0004325  0.00036969 0.00053114 0.00055592 0.00131718 0.00050581\n",
      "  0.00035446]\n",
      " [0.0004831  0.00072454 0.00114512 0.00122061 0.00050581 0.00119605\n",
      "  0.00072182]\n",
      " [0.00042302 0.00090891 0.0008856  0.00088548 0.00035446 0.00072182\n",
      "  0.00098906]]\n"
     ]
    }
   ],
   "source": [
    "P = np.array((0,0,-0.2954545363341203,1,0,-0.7045454636658798,0,0,1,0,0,0,0,-1)).reshape((2,7))\n",
    "Omega= np.array((0.025*tau, 0,0,0.015*tau)).reshape((2,2))\n",
    "q=np.array((0.045, 0.02)).reshape((2,1))\n",
    "Omega_0 = tau*Sigma\n",
    "Mu_bar,Omega_bar = tools(P,Omega_0,Omega,q)\n",
    "print(\"Mu_bar : \\n\",Mu_bar,\"\\n and Omega_bar : \\n\",Omega_bar)\n"
   ]
  },
  {
   "cell_type": "code",
   "execution_count": 59,
   "metadata": {},
   "outputs": [
    {
     "name": "stdout",
     "output_type": "stream",
     "text": [
      "Mu_bar : \n",
      " [[0.05818278]\n",
      " [0.11051274]\n",
      " [0.12401373]\n",
      " [0.13944587]\n",
      " [0.06235575]\n",
      " [0.09597677]\n",
      " [0.10373602]] \n",
      " and Omega_bar : \n",
      " [[0.00074977 0.00043619 0.00052591 0.00057876 0.0004325  0.0004831\n",
      "  0.00042302]\n",
      " [0.00043619 0.00106748 0.00091257 0.00091063 0.00036969 0.00072454\n",
      "  0.00090891]\n",
      " [0.00052591 0.00091257 0.00174313 0.00151963 0.00053114 0.00114512\n",
      "  0.0008856 ]\n",
      " [0.00057876 0.00091063 0.00151963 0.00173923 0.00055592 0.00122061\n",
      "  0.00088548]\n",
      " [0.0004325  0.00036969 0.00053114 0.00055592 0.00131718 0.00050581\n",
      "  0.00035446]\n",
      " [0.0004831  0.00072454 0.00114512 0.00122061 0.00050581 0.00119605\n",
      "  0.00072182]\n",
      " [0.00042302 0.00090891 0.0008856  0.00088548 0.00035446 0.00072182\n",
      "  0.00098906]]\n"
     ]
    }
   ],
   "source": [
    "mu_bar = mu_0 + tau*Sigma@P.T@np.linalg.inv(P@(Omega_0)@P.T+Omega)@(q-P@mu_0)\n",
    "omega_bar = tau*Sigma - tau*Sigma@P.T@np.linalg.inv(P@(Omega_0)@P.T+Omega)@(P@(tau*Sigma))\n",
    "print(\"Mu_bar : \\n\",mu_bar,\"\\n and Omega_bar : \\n\",omega_bar)"
   ]
  },
  {
   "cell_type": "code",
   "execution_count": 60,
   "metadata": {},
   "outputs": [
    {
     "name": "stdout",
     "output_type": "stream",
     "text": [
      "w_opt : \n",
      " [[0.02718447]\n",
      " [0.46768813]\n",
      " [0.02885573]\n",
      " [0.2948102 ]\n",
      " [0.19708738]\n",
      " [0.0688098 ]\n",
      " [0.61459342]]\n",
      "Check that condition holds :\n",
      " [[0.02718447]\n",
      " [0.46768813]\n",
      " [0.02885573]\n",
      " [0.2948102 ]\n",
      " [0.19708738]\n",
      " [0.0688098 ]\n",
      " [0.61459342]]\n",
      "lambda1 :\n",
      " [0.2013636] \n",
      " lambda2 :\n",
      " [0.43030949]\n"
     ]
    }
   ],
   "source": [
    "w_opt,Lambda_opt= optimalportfolio(P,tau,q,mu_0,gamma_2,Sigma,mu_bar,omega_bar,Omega)\n",
    "w_check = w0 + P.T@Lambda_opt\n",
    "print(\"w_opt : \\n\",w_opt)\n",
    "print('Check that condition holds :\\n',w_check)\n",
    "print(\"lambda1 :\\n\",Lambda_opt[0],\"\\n lambda2 :\\n\",Lambda_opt[1])\n"
   ]
  },
  {
   "cell_type": "code",
   "execution_count": 61,
   "metadata": {},
   "outputs": [
    {
     "name": "stdout",
     "output_type": "stream",
     "text": [
      "The difference with w0 is: \n",
      " [[ 4.44089210e-16]\n",
      " [ 4.30309494e-01]\n",
      " [-5.94937886e-02]\n",
      " [ 2.01363598e-01]\n",
      " [-1.66533454e-16]\n",
      " [-1.41869810e-01]\n",
      " [-4.30309494e-01]]\n",
      "The difference with w_eq is: \n",
      "                   w\n",
      "Australia  0.011184\n",
      "Canada     0.445688\n",
      "France    -0.023144\n",
      "Germany    0.239810\n",
      "Japan      0.081087\n",
      "UK        -0.055190\n",
      "US        -0.000407\n"
     ]
    }
   ],
   "source": [
    "print(\"The difference with w0 is: \\n\",w_opt-w0)\n",
    "print(\"The difference with w_eq is: \\n\",w_opt-weq)"
   ]
  },
  {
   "attachments": {},
   "cell_type": "markdown",
   "metadata": {},
   "source": [
    "The first and fifth components are 0 since the first and fifth column of matrix P are 0, hence we do not have any view about these countries."
   ]
  },
  {
   "attachments": {},
   "cell_type": "markdown",
   "metadata": {},
   "source": [
    "We can rewrite w_opt as :\n",
    "$$ w_{opt} = w_0 + \\lambda_1P_1'+\\lambda_2P_2'$$"
   ]
  },
  {
   "attachments": {},
   "cell_type": "markdown",
   "metadata": {},
   "source": [
    "## (6)"
   ]
  },
  {
   "cell_type": "code",
   "execution_count": 62,
   "metadata": {},
   "outputs": [
    {
     "name": "stdout",
     "output_type": "stream",
     "text": [
      "Mu_bar : \n",
      " [[0.05691893]\n",
      " [0.10943242]\n",
      " [0.12246164]\n",
      " [0.13782136]\n",
      " [0.05850666]\n",
      " [0.0944987 ]\n",
      " [0.10270022]] \n",
      " and Omega_bar : \n",
      " [[0.00067546 0.00037267 0.00043465 0.00048324 0.00020618 0.00039619\n",
      "  0.00036211]\n",
      " [0.00037267 0.00101318 0.00083456 0.00082899 0.00017624 0.00065026\n",
      "  0.00085685]\n",
      " [0.00043465 0.00083456 0.00163106 0.00140233 0.00025321 0.00103839\n",
      "  0.0008108 ]\n",
      " [0.00048324 0.00082899 0.00140233 0.00161645 0.00026502 0.0011089\n",
      "  0.0008072 ]\n",
      " [0.00020618 0.00017624 0.00025321 0.00026502 0.00062793 0.00024113\n",
      "  0.00016898]\n",
      " [0.00039619 0.00065026 0.00103839 0.0011089  0.00024113 0.00109442\n",
      "  0.00065059]\n",
      " [0.00036211 0.00085685 0.0008108  0.0008072  0.00016898 0.00065059\n",
      "  0.00093915]]\n"
     ]
    }
   ],
   "source": [
    "P_new = np.array((0,0,-0.2954545363341203,1,0,-0.7045454636658798,0,0,1,0,0,0,0,-1,0,0,0,0,1,0,0)).reshape((3,7))\n",
    "q_new = np.array((0.045, 0.02, 0.055)).reshape((3,1))\n",
    "Omega_3 = np.diag((0.025*tau, 0.015*tau, 0.04*tau ))\n",
    "Mu_bar_new, Omega_bar_new  = tools(P_new,Omega_0,Omega_3,q_new)\n",
    "print(\"Mu_bar : \\n\",Mu_bar_new,\"\\n and Omega_bar : \\n\",Omega_bar_new)"
   ]
  },
  {
   "cell_type": "code",
   "execution_count": 63,
   "metadata": {},
   "outputs": [
    {
     "name": "stdout",
     "output_type": "stream",
     "text": [
      "w_opt : \n",
      " [[0.02718447]\n",
      " [0.4687891 ]\n",
      " [0.02831157]\n",
      " [0.29665195]\n",
      " [0.16416781]\n",
      " [0.0675122 ]\n",
      " [0.61349245]]\n",
      "lambda1 :\n",
      " [0.20320535] \n",
      " lambda2 :\n",
      " [0.43141046] \n",
      " lambda3 :\n",
      " [-0.03291957]\n"
     ]
    }
   ],
   "source": [
    "\n",
    "wopt_new, Lambda_opt_new = optimalportfolio(P_new,tau,q_new,mu_0,gamma_2,Sigma,Mu_bar_new,Omega_bar_new,Omega_3)\n",
    "w_check_new = w0 + P_new.T@Lambda_opt_new\n",
    "\n",
    "print(\"w_opt : \\n\",wopt_new)\n",
    "print(\"lambda1 :\\n\",Lambda_opt_new[0],\"\\n lambda2 :\\n\",Lambda_opt_new[1],\"\\n lambda3 :\\n\",Lambda_opt_new[2])"
   ]
  },
  {
   "attachments": {},
   "cell_type": "markdown",
   "metadata": {},
   "source": [
    "Using $\\frac{\\Omega_{33}}{\\tau} = 0.01$"
   ]
  },
  {
   "cell_type": "code",
   "execution_count": 66,
   "metadata": {},
   "outputs": [
    {
     "name": "stdout",
     "output_type": "stream",
     "text": [
      "Mu_bar : \n",
      " [[0.05621557]\n",
      " [0.10883119]\n",
      " [0.12159786]\n",
      " [0.13691729]\n",
      " [0.05636455]\n",
      " [0.09367611]\n",
      " [0.10212377]] \n",
      " and Omega_bar : \n",
      " [[6.34104778e-04 3.37315064e-04 3.83865293e-04 4.30086716e-04\n",
      "  8.02316094e-05 3.47825839e-04 3.28221371e-04]\n",
      " [3.37315064e-04 9.82967446e-04 7.91148335e-04 7.83550145e-04\n",
      "  6.85810186e-05 6.08913995e-04 8.27883028e-04]\n",
      " [3.83865293e-04 7.91148335e-04 1.56868931e-03 1.33704767e-03\n",
      "  9.85302378e-05 9.78998104e-04 7.69181384e-04]\n",
      " [4.30086716e-04 7.83550145e-04 1.33704767e-03 1.54812739e-03\n",
      "  1.03127046e-04 1.04673660e-03 7.63638115e-04]\n",
      " [8.02316094e-05 6.85810186e-05 9.85302378e-05 1.03127046e-04\n",
      "  2.44347564e-04 9.38310845e-05 6.57545703e-05]\n",
      " [3.47825839e-04 6.08913995e-04 9.78998104e-04 1.04673660e-03\n",
      "  9.38310845e-05 1.03785190e-03 6.10953638e-04]\n",
      " [3.28221371e-04 8.27883028e-04 7.69181384e-04 7.63638115e-04\n",
      "  6.57545703e-05 6.10953638e-04 9.11372974e-04]]\n"
     ]
    }
   ],
   "source": [
    "Omega_4 = np.diag((0.025*tau, 0.015*tau, 0.01*tau ))\n",
    "Mu_bar_4, Omega_bar_4  = tools(P_new,Omega_0,Omega_4,q_new)\n",
    "print(\"Mu_bar : \\n\",Mu_bar_4,\"\\n and Omega_bar : \\n\",Omega_bar_4)"
   ]
  },
  {
   "cell_type": "code",
   "execution_count": 67,
   "metadata": {},
   "outputs": [
    {
     "name": "stdout",
     "output_type": "stream",
     "text": [
      "w_opt : \n",
      " [[0.02718447]\n",
      " [0.46941667]\n",
      " [0.02800139]\n",
      " [0.29770179]\n",
      " [0.14540309]\n",
      " [0.06677255]\n",
      " [0.61286488]]\n",
      "lambda1 :\n",
      " [0.20425518] \n",
      " lambda2 :\n",
      " [0.43203803] \n",
      " lambda3 :\n",
      " [-0.05168429]\n"
     ]
    }
   ],
   "source": [
    "wopt_4, Lambda_opt_4 = optimalportfolio(P_new,tau,q_new,mu_0,gamma_2,Sigma,Mu_bar_4,Omega_bar_4,Omega_4)\n",
    "w_check_4 = w0 + P_new.T@Lambda_opt_4\n",
    "\n",
    "print(\"w_opt : \\n\",wopt_4)\n",
    "print(\"lambda1 :\\n\",Lambda_opt_4[0],\"\\n lambda2 :\\n\",Lambda_opt_4[1],\"\\n lambda3 :\\n\",Lambda_opt_4[2])"
   ]
  },
  {
   "attachments": {},
   "cell_type": "markdown",
   "metadata": {},
   "source": [
    "As the investor becomes less uncertain about the underperforme of Japanese market he is going to put less weight on it. This is compensate by increasing the weights of Germany and Canada and decreasing the ones of UK, US France according to the other views."
   ]
  }
 ],
 "metadata": {
  "kernelspec": {
   "display_name": "Python 3",
   "language": "python",
   "name": "python3"
  },
  "language_info": {
   "codemirror_mode": {
    "name": "ipython",
    "version": 3
   },
   "file_extension": ".py",
   "mimetype": "text/x-python",
   "name": "python",
   "nbconvert_exporter": "python",
   "pygments_lexer": "ipython3",
   "version": "3.9.13"
  },
  "orig_nbformat": 4
 },
 "nbformat": 4,
 "nbformat_minor": 2
}
